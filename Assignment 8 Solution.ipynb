{
 "cells": [
  {
   "cell_type": "markdown",
   "id": "8b2942fb",
   "metadata": {},
   "source": [
    "### Q-15. Write an SQL query to fetch intersecting records of two tables."
   ]
  },
  {
   "cell_type": "code",
   "execution_count": null,
   "id": "69c1e11a",
   "metadata": {},
   "outputs": [],
   "source": [
    "(select * from Table_1)\n",
    "INTO\n",
    "(select * from Table_1_Clone)"
   ]
  },
  {
   "cell_type": "markdown",
   "id": "ac884d7a",
   "metadata": {},
   "source": [
    "### Q-16. Write an SQL query to show records from one table that another table does not have."
   ]
  },
  {
   "cell_type": "code",
   "execution_count": null,
   "id": "574401db",
   "metadata": {},
   "outputs": [],
   "source": [
    "select * from Table_1\n",
    "minus\n",
    "select * from Table_2"
   ]
  }
 ],
 "metadata": {
  "kernelspec": {
   "display_name": "Python 3",
   "language": "python",
   "name": "python3"
  },
  "language_info": {
   "codemirror_mode": {
    "name": "ipython",
    "version": 3
   },
   "file_extension": ".py",
   "mimetype": "text/x-python",
   "name": "python",
   "nbconvert_exporter": "python",
   "pygments_lexer": "ipython3",
   "version": "3.8.8"
  }
 },
 "nbformat": 4,
 "nbformat_minor": 5
}
