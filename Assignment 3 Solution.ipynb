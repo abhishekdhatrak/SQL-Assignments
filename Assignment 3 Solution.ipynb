{
 "cells": [
  {
   "cell_type": "markdown",
   "id": "70fa5d3d",
   "metadata": {},
   "source": [
    "### Q-1. Write an SQL query to print the FIRST_NAME from Worker table after removing white spaces from the right side."
   ]
  },
  {
   "cell_type": "code",
   "execution_count": null,
   "id": "d7fc1595",
   "metadata": {},
   "outputs": [],
   "source": [
    "select RTRIM(FIRST_NAME)\n",
    "from Worker"
   ]
  },
  {
   "cell_type": "markdown",
   "id": "b355a019",
   "metadata": {},
   "source": [
    "### Q-2. Write an SQL query that fetches the unique values of DEPARTMENT from Worker table and prints its length."
   ]
  },
  {
   "cell_type": "code",
   "execution_count": null,
   "id": "d67d12f6",
   "metadata": {},
   "outputs": [],
   "source": [
    "select distinct length(DEPARTMENT)\n",
    "from Worker"
   ]
  },
  {
   "cell_type": "markdown",
   "id": "ca48e7e9",
   "metadata": {},
   "source": [
    "### Q-3. Write an SQL query to fetch nth max salaries from a table."
   ]
  },
  {
   "cell_type": "code",
   "execution_count": null,
   "id": "6f3876c0",
   "metadata": {},
   "outputs": [],
   "source": [
    "SELECT distinct Salary from worker a WHERE n >= (SELECT count(distinct Salary) \n",
    "from worker b WHERE a.Salary <= b.Salary) order by a.Salary desc"
   ]
  }
 ],
 "metadata": {
  "kernelspec": {
   "display_name": "Python 3",
   "language": "python",
   "name": "python3"
  },
  "language_info": {
   "codemirror_mode": {
    "name": "ipython",
    "version": 3
   },
   "file_extension": ".py",
   "mimetype": "text/x-python",
   "name": "python",
   "nbconvert_exporter": "python",
   "pygments_lexer": "ipython3",
   "version": "3.8.8"
  }
 },
 "nbformat": 4,
 "nbformat_minor": 5
}
