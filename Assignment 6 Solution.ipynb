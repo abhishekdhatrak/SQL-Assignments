{
 "cells": [
  {
   "cell_type": "markdown",
   "id": "5e142217",
   "metadata": {},
   "source": [
    "### Q-1. Write an SQL query to print details of the Workers who have joined in Feb’2014."
   ]
  },
  {
   "cell_type": "code",
   "execution_count": null,
   "id": "f74c4232",
   "metadata": {},
   "outputs": [],
   "source": [
    "select *\n",
    "from Workers\n",
    "where year(joining_date) = 2014 and month(joining_date) = 2"
   ]
  },
  {
   "cell_type": "markdown",
   "id": "1e7e57ec",
   "metadata": {},
   "source": [
    "### Q-2. Write an SQL query to fetch duplicate records having matching data in some fields of a table."
   ]
  },
  {
   "cell_type": "code",
   "execution_count": null,
   "id": "748a4aa5",
   "metadata": {},
   "outputs": [],
   "source": [
    "select WORKER_TITLE, AFFECTED_FROM, COUNT(*) from Title\n",
    "group by WORKER_TITLE, AFFECTED_FROM\n",
    "having COUNT(*) > 1"
   ]
  },
  {
   "cell_type": "markdown",
   "id": "19219a11",
   "metadata": {},
   "source": [
    "### Q-3. How to remove duplicate rows from Employees table."
   ]
  },
  {
   "cell_type": "code",
   "execution_count": null,
   "id": "4b8349cc",
   "metadata": {},
   "outputs": [],
   "source": [
    "DELETE From EMPLOYEE where SN NOT IN (\n",
    "select MAX(SN) FROM EMPLOYEE GROUP BY EMPNAME,DEPT,CONTACTNO,CITY)"
   ]
  }
 ],
 "metadata": {
  "kernelspec": {
   "display_name": "Python 3",
   "language": "python",
   "name": "python3"
  },
  "language_info": {
   "codemirror_mode": {
    "name": "ipython",
    "version": 3
   },
   "file_extension": ".py",
   "mimetype": "text/x-python",
   "name": "python",
   "nbconvert_exporter": "python",
   "pygments_lexer": "ipython3",
   "version": "3.8.8"
  }
 },
 "nbformat": 4,
 "nbformat_minor": 5
}
