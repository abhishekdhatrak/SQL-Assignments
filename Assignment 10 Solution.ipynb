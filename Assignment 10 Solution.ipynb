{
 "cells": [
  {
   "cell_type": "markdown",
   "id": "673fd058",
   "metadata": {},
   "source": [
    "### Q-19. Write an SQL query to determine the 5th highest salary without using TOP or limit method."
   ]
  },
  {
   "cell_type": "code",
   "execution_count": null,
   "id": "3ceb7bba",
   "metadata": {},
   "outputs": [],
   "source": [
    "select Salary\n",
    "from Worker W1\n",
    "Where 4 = (select Count( Distinct (W2.Salary ) )\n",
    "From Worker W2 Where W2.Salary >= W1.Salary )"
   ]
  },
  {
   "cell_type": "markdown",
   "id": "0679bc8d",
   "metadata": {},
   "source": [
    "### Q-20. Write an SQL query to fetch the list of employees with the same salary."
   ]
  },
  {
   "cell_type": "code",
   "execution_count": null,
   "id": "89e91fae",
   "metadata": {},
   "outputs": [],
   "source": [
    "select distinct W.Worker_ID, W.First_Name, W.Salary\n",
    "from Worker W, Worker W1\n",
    "where W.Salary = W1.Salary and W.Worker_ID != W1.Worker_ID"
   ]
  }
 ],
 "metadata": {
  "kernelspec": {
   "display_name": "Python 3",
   "language": "python",
   "name": "python3"
  },
  "language_info": {
   "codemirror_mode": {
    "name": "ipython",
    "version": 3
   },
   "file_extension": ".py",
   "mimetype": "text/x-python",
   "name": "python",
   "nbconvert_exporter": "python",
   "pygments_lexer": "ipython3",
   "version": "3.8.8"
  }
 },
 "nbformat": 4,
 "nbformat_minor": 5
}
