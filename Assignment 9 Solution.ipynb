{
 "cells": [
  {
   "cell_type": "markdown",
   "id": "12d73ab6",
   "metadata": {},
   "source": [
    "### Q-17.  Write an SQL query to show the top n (say 10) records of a table."
   ]
  },
  {
   "cell_type": "code",
   "execution_count": null,
   "id": "a54b2b23",
   "metadata": {},
   "outputs": [],
   "source": [
    "select *\n",
    "from TABLE_1\n",
    "order by SALARY desc limit 10"
   ]
  },
  {
   "cell_type": "markdown",
   "id": "d9633f87",
   "metadata": {},
   "source": [
    "### Q-18. Write an SQL query to determine the nth (say n=5) highest salary from a table."
   ]
  },
  {
   "cell_type": "code",
   "execution_count": null,
   "id": "e84f8af1",
   "metadata": {},
   "outputs": [],
   "source": [
    "select SALARY\n",
    "from WORKER\n",
    "order by SALARY desc\n",
    "limit n-1, 1"
   ]
  }
 ],
 "metadata": {
  "kernelspec": {
   "display_name": "Python 3",
   "language": "python",
   "name": "python3"
  },
  "language_info": {
   "codemirror_mode": {
    "name": "ipython",
    "version": 3
   },
   "file_extension": ".py",
   "mimetype": "text/x-python",
   "name": "python",
   "nbconvert_exporter": "python",
   "pygments_lexer": "ipython3",
   "version": "3.8.8"
  }
 },
 "nbformat": 4,
 "nbformat_minor": 5
}
