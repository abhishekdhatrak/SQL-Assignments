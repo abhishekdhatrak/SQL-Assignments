{
 "cells": [
  {
   "cell_type": "markdown",
   "id": "15b04afc",
   "metadata": {},
   "source": [
    "### Q-1. Write an SQL query to print the FIRST_NAME from Worker table after replacing ‘a’ with ‘A’."
   ]
  },
  {
   "cell_type": "code",
   "execution_count": null,
   "id": "19ecb5be",
   "metadata": {},
   "outputs": [],
   "source": [
    "select REPLACE (FIRST_NAME, 'a', 'A')\n",
    "from Worker"
   ]
  },
  {
   "cell_type": "markdown",
   "id": "eb82a91f",
   "metadata": {},
   "source": [
    "### Q-2. Write an SQL query to print all Worker details from the Worker table order by FIRST_NAME Ascending and DEPARTMENT Descending."
   ]
  },
  {
   "cell_type": "code",
   "execution_count": null,
   "id": "61df110d",
   "metadata": {},
   "outputs": [],
   "source": [
    "select *\n",
    "from Worker\n",
    "order by FIRST_NAME asc, DEPARTMENT desc"
   ]
  },
  {
   "cell_type": "markdown",
   "id": "fa22dcb4",
   "metadata": {},
   "source": [
    "### Q-3. Write an SQL query to fetch the names of workers who earn the highest salary."
   ]
  },
  {
   "cell_type": "code",
   "execution_count": null,
   "id": "de1663da",
   "metadata": {},
   "outputs": [],
   "source": [
    "select FIRST_NAME, SALARY\n",
    "from Worker\n",
    "where SALARY = (select MAX(SALARY) from Worker)"
   ]
  }
 ],
 "metadata": {
  "kernelspec": {
   "display_name": "Python 3",
   "language": "python",
   "name": "python3"
  },
  "language_info": {
   "codemirror_mode": {
    "name": "ipython",
    "version": 3
   },
   "file_extension": ".py",
   "mimetype": "text/x-python",
   "name": "python",
   "nbconvert_exporter": "python",
   "pygments_lexer": "ipython3",
   "version": "3.8.8"
  }
 },
 "nbformat": 4,
 "nbformat_minor": 5
}
