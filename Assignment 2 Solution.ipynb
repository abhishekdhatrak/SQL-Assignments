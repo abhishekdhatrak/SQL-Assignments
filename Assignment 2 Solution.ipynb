{
 "cells": [
  {
   "cell_type": "markdown",
   "id": "a5ed1571",
   "metadata": {},
   "source": [
    "### Q-1. Write an SQL query to print the first three characters of  FIRST_NAME from Worker table."
   ]
  },
  {
   "cell_type": "code",
   "execution_count": null,
   "id": "289a3ca5",
   "metadata": {},
   "outputs": [],
   "source": [
    "select substring (FIRST_NAME,1,3)\n",
    "from Worker"
   ]
  },
  {
   "cell_type": "markdown",
   "id": "d77f3532",
   "metadata": {},
   "source": [
    "###  Q-2. Write an SQL query to find the position of the alphabet (‘a’) in the first name column ‘Amitabh’ from Worker table."
   ]
  },
  {
   "cell_type": "code",
   "execution_count": null,
   "id": "b9e789ab",
   "metadata": {},
   "outputs": [],
   "source": [
    "select INSTR (FIRST_NAME, BINARY 'a')\n",
    "from Worker\n",
    "where FIRST_NAME = 'Amitabh'"
   ]
  },
  {
   "cell_type": "markdown",
   "id": "012c75fc",
   "metadata": {},
   "source": [
    "### Q-3. Write an SQL query to print the name of employees having the highest salary in each department."
   ]
  },
  {
   "cell_type": "code",
   "execution_count": null,
   "id": "0cc71074",
   "metadata": {},
   "outputs": [],
   "source": [
    "select Name, MAX(Salary)\n",
    "from Department\n",
    "group by Department_Id"
   ]
  }
 ],
 "metadata": {
  "kernelspec": {
   "display_name": "Python 3",
   "language": "python",
   "name": "python3"
  },
  "language_info": {
   "codemirror_mode": {
    "name": "ipython",
    "version": 3
   },
   "file_extension": ".py",
   "mimetype": "text/x-python",
   "name": "python",
   "nbconvert_exporter": "python",
   "pygments_lexer": "ipython3",
   "version": "3.8.8"
  }
 },
 "nbformat": 4,
 "nbformat_minor": 5
}
