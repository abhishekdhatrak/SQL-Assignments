{
 "cells": [
  {
   "cell_type": "markdown",
   "id": "194a8202",
   "metadata": {},
   "source": [
    "### Q-1. Write an SQL query to fetch “FIRST_NAME” from Worker table using the alias name as WORKER_NAME."
   ]
  },
  {
   "cell_type": "markdown",
   "id": "009ce351",
   "metadata": {},
   "source": [
    "select FIRST_NAME as WORKER_NAME\n",
    "from Worker"
   ]
  },
  {
   "cell_type": "markdown",
   "id": "e758a966",
   "metadata": {},
   "source": [
    "### Q-2. Write an SQL query to fetch unique values of DEPARTMENT from Worker table."
   ]
  },
  {
   "cell_type": "markdown",
   "id": "a2bf3f34",
   "metadata": {},
   "source": [
    "select distinct DEPARTMENT\n",
    "from Worker"
   ]
  },
  {
   "cell_type": "markdown",
   "id": "7adc2331",
   "metadata": {},
   "source": [
    "### Q-3. Write an SQL query to show the last 5 record from a table."
   ]
  },
  {
   "cell_type": "markdown",
   "id": "4509405b",
   "metadata": {},
   "source": [
    "select * from (select * \n",
    "from Worker\n",
    "order by ID desc limit 5)\n",
    "order by ID asc"
   ]
  }
 ],
 "metadata": {
  "kernelspec": {
   "display_name": "Python 3",
   "language": "python",
   "name": "python3"
  },
  "language_info": {
   "codemirror_mode": {
    "name": "ipython",
    "version": 3
   },
   "file_extension": ".py",
   "mimetype": "text/x-python",
   "name": "python",
   "nbconvert_exporter": "python",
   "pygments_lexer": "ipython3",
   "version": "3.8.8"
  }
 },
 "nbformat": 4,
 "nbformat_minor": 5
}
