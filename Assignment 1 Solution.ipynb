{
 "cells": [
  {
   "cell_type": "markdown",
   "id": "faea8b98",
   "metadata": {},
   "source": [
    "### Q-1. Write an SQL query to fetch “FIRST_NAME” from Worker table using the alias name as WORKER_NAME."
   ]
  },
  {
   "cell_type": "code",
   "execution_count": null,
   "id": "7ea742d1",
   "metadata": {},
   "outputs": [],
   "source": [
    "select FIRST_NAME as WORKER_NAME\n",
    "from Worker"
   ]
  },
  {
   "cell_type": "markdown",
   "id": "25c88261",
   "metadata": {},
   "source": [
    "### Q-2. Write an SQL query to fetch unique values of DEPARTMENT from Worker table."
   ]
  },
  {
   "cell_type": "code",
   "execution_count": null,
   "id": "ecc049f7",
   "metadata": {},
   "outputs": [],
   "source": [
    "select distinct DEPARTMENT\n",
    "from Worker"
   ]
  },
  {
   "cell_type": "markdown",
   "id": "59e0846b",
   "metadata": {},
   "source": [
    "### Q-3. Write an SQL query to show the last 5 record from a table."
   ]
  },
  {
   "cell_type": "code",
   "execution_count": null,
   "id": "7e786751",
   "metadata": {},
   "outputs": [],
   "source": [
    "select * from (select * \n",
    "from Worker\n",
    "order by ID desc limit 5)\n",
    "order by ID asc"
   ]
  }
 ],
 "metadata": {
  "kernelspec": {
   "display_name": "Python 3",
   "language": "python",
   "name": "python3"
  },
  "language_info": {
   "codemirror_mode": {
    "name": "ipython",
    "version": 3
   },
   "file_extension": ".py",
   "mimetype": "text/x-python",
   "name": "python",
   "nbconvert_exporter": "python",
   "pygments_lexer": "ipython3",
   "version": "3.8.8"
  }
 },
 "nbformat": 4,
 "nbformat_minor": 5
}
